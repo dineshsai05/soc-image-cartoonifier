{
 "cells": [
  {
   "cell_type": "code",
   "execution_count": 12,
   "id": "8094fc27-2d12-466e-842e-208b40502275",
   "metadata": {},
   "outputs": [
    {
     "name": "stdout",
     "output_type": "stream",
     "text": [
      "1\n",
      "3\n",
      "5\n",
      "7\n"
     ]
    }
   ],
   "source": [
    "# Question 1\n",
    "def function(array):\n",
    "    for x in array:\n",
    "        if x%2!=0:\n",
    "            print(x)\n",
    "array = [1,2,3,4,5,6,7,8]\n",
    "function(array)"
   ]
  },
  {
   "cell_type": "code",
   "execution_count": 3,
   "id": "6370bb2d-3d51-4b0d-b88f-4e8f3c7352d1",
   "metadata": {},
   "outputs": [
    {
     "name": "stdout",
     "output_type": "stream",
     "text": [
      "snoopy says bow\n"
     ]
    }
   ],
   "source": [
    "# Question 2\n",
    "class Dog():\n",
    "    def __init__(self,name,breed):\n",
    "        self.name = name\n",
    "        self.breed = breed\n",
    "    \n",
    "    def bark(self):\n",
    "        print(f\"{self.name} says bow\")\n",
    "\n",
    "dog = Dog(\"snoopy\",\"bulldog\")\n",
    "dog.bark()"
   ]
  },
  {
   "cell_type": "code",
   "execution_count": 5,
   "id": "0823ecb4-cde6-47e9-a3cc-85f312c4ff63",
   "metadata": {},
   "outputs": [
    {
     "name": "stdout",
     "output_type": "stream",
     "text": [
      "[[68 64 59 13 16 23 92  3 49 66 41 73 63 84 42 49 76 18 53 92 30 83 47 98\n",
      "  94 70 41 17 43 26 97 79 91 30 33  4 38 95 59  3 72  2 52 40 30 18 49 18\n",
      "  86 70 80 41 27 83 51 73 78  5 67 10 27 52 78 59 94 68 86 54 76 28 39 10\n",
      "  45 76 67 75  4 45 66  4 87 32 66 59 60 71 20 87 25 25 98 51 27  3 17 85\n",
      "  84 26  0 48]]\n",
      "51.5\n",
      "50.98\n",
      "ModeResult(mode=array([59]), count=array([4]))\n",
      "98\n",
      "24.3208\n"
     ]
    },
    {
     "name": "stderr",
     "output_type": "stream",
     "text": [
      "C:\\Users\\dines\\AppData\\Local\\Temp\\ipykernel_18496\\304183756.py:9: FutureWarning: Unlike other reduction functions (e.g. `skew`, `kurtosis`), the default behavior of `mode` typically preserves the axis it acts along. In SciPy 1.11.0, this behavior will change: the default value of `keepdims` will become False, the `axis` over which the statistic is taken will be eliminated, and the value None will no longer be accepted. Set `keepdims` to True or False to avoid this warning.\n",
      "  print(stats.mode(x[0]))\n"
     ]
    }
   ],
   "source": [
    "# Question 3\n",
    "import numpy as np\n",
    "from scipy import stats\n",
    "\n",
    "x = np.random.randint(0,100 ,(1,100))\n",
    "print(x)\n",
    "print(np.median(x))\n",
    "print(np.mean(x))\n",
    "print(stats.mode(x[0]))\n",
    "print(max(x[0])-min(x[0]))\n",
    "std_dev = 0\n",
    "for y in x[0]:\n",
    "    if y > np.mean(x):\n",
    "        std_dev += y - np.mean(x)\n",
    "    else: std_dev += np.mean(x) - y\n",
    "print(std_dev/100)"
   ]
  },
  {
   "cell_type": "code",
   "execution_count": 6,
   "id": "65251f21-4080-4cce-ae85-95a6ad8fc61c",
   "metadata": {},
   "outputs": [
    {
     "name": "stdin",
     "output_type": "stream",
     "text": [
      "Enter the length of Array:  3\n",
      "enter value:  1\n",
      "enter value:  9\n",
      "enter value:  8\n"
     ]
    },
    {
     "name": "stdout",
     "output_type": "stream",
     "text": [
      "[1 8 9]\n"
     ]
    }
   ],
   "source": [
    "# Mandatory Question 1\n",
    "import numpy as np\n",
    "\n",
    "class prbl():\n",
    "\n",
    "    def __init__(self):\n",
    "        self.array = []\n",
    "    \n",
    "    def get_array(self):\n",
    "        length = int(input('Enter the length of Array: '))\n",
    "        for x in range(length):\n",
    "            i = int(input('enter value: '))\n",
    "            self.array.append(i)\n",
    "        final_array = np.sort(self.array)\n",
    "        return final_array\n",
    "        \n",
    "array1 = prbl()\n",
    "sorted = array1.get_array()\n",
    "print(sorted)"
   ]
  },
  {
   "cell_type": "code",
   "execution_count": 9,
   "id": "1f727789-d0c4-49e4-bf45-f84577fcf73f",
   "metadata": {},
   "outputs": [
    {
     "name": "stdin",
     "output_type": "stream",
     "text": [
      " 1\n",
      " 2\n",
      " 3\n",
      " 4\n",
      " 5\n",
      " 6\n",
      " 7\n",
      " 8\n",
      " 9\n",
      " 10\n",
      " 11\n",
      " 12\n",
      " 13\n",
      " 14\n",
      " 15\n",
      " 16\n"
     ]
    },
    {
     "name": "stdout",
     "output_type": "stream",
     "text": [
      "[[ 1  2  3  4]\n",
      " [ 5  6  7  8]\n",
      " [ 9 10 11 12]\n",
      " [13 14 15 16]]\n",
      "1\n",
      "6\n",
      "11\n",
      "16\n",
      "trace is 34\n",
      "4\n",
      "1\n",
      "8\n",
      "5\n",
      "12\n",
      "9\n",
      "16\n",
      "13\n",
      "[[0.         0.05263158 0.10526316 0.15789474 0.21052632]\n",
      " [0.26315789 0.31578947 0.36842105 0.42105263 0.47368421]\n",
      " [0.52631579 0.57894737 0.63157895 0.68421053 0.73684211]\n",
      " [0.78947368 0.84210526 0.89473684 0.94736842 1.        ]]\n",
      "[[ 5.26315789  5.78947368  6.31578947  6.84210526  7.36842105]\n",
      " [11.57894737 12.94736842 14.31578947 15.68421053 17.05263158]\n",
      " [17.89473684 20.10526316 22.31578947 24.52631579 26.73684211]\n",
      " [24.21052632 27.26315789 30.31578947 33.36842105 36.42105263]]\n"
     ]
    }
   ],
   "source": [
    "# Mandatory Question 2\n",
    "import numpy as np\n",
    "\n",
    "list = []\n",
    "for i in range(16):\n",
    "    x = int(input())\n",
    "    list.append(x)\n",
    "\n",
    "arr = np.asarray(list)\n",
    "arr = arr.reshape(4,4)\n",
    "print(arr)\n",
    "Trace = 0 \n",
    "for i in range(4):\n",
    "    print(arr[i,i])\n",
    "    Trace += arr[i,i]\n",
    "print('trace is',Trace)\n",
    "for i in range(4):\n",
    "    print(max(arr[i]))\n",
    "    print(min(arr[i]))\n",
    "\n",
    "arr1 = np.linspace(0, 1, num=20, endpoint=True)\n",
    "arr1 = arr1.reshape(4,5)\n",
    "print(arr1)\n",
    "\n",
    "arr3 = arr @ arr1\n",
    "print(arr3)\n"
   ]
  },
  {
   "cell_type": "code",
   "execution_count": 11,
   "id": "8de74707-cdd7-4727-8c2d-b6f62102ab58",
   "metadata": {},
   "outputs": [
    {
     "name": "stdout",
     "output_type": "stream",
     "text": [
      "    year  month  average_closing_value\n",
      "0   2022      5              39.604632\n",
      "1   2022      6              38.842517\n",
      "2   2022      7              39.780205\n",
      "3   2022      8              37.864697\n",
      "4   2022      9              33.479498\n",
      "5   2022     10              29.511188\n",
      "6   2022     11              24.556332\n",
      "7   2022     12              26.196142\n",
      "8   2023      1              30.161266\n",
      "9   2023      2              33.297415\n",
      "10  2023      3              31.698324\n",
      "11  2023      4              28.694983\n",
      "12  2023      5              27.913987\n"
     ]
    }
   ],
   "source": [
    "import pandas as pd\n",
    "import numpy as np\n",
    "\n",
    "df = pd.read_csv('Data - STOCK_US_XNYS_CSV.csv')\n",
    "\n",
    "df['Date'] = pd.to_datetime(df['Date'])\n",
    "\n",
    "\n",
    "# df = df[cols[0:1] + cols[4:6]]\n",
    "df['year'] = df['Date'].dt.year\n",
    "df['month'] = df['Date'].dt.month\n",
    "df['Volume'] = df['Volume'].str.replace(',', '').astype(float)\n",
    "# print(df.dtypes)\n",
    "\n",
    "df['total'] = df['Close']*df['Volume']\n",
    "\n",
    "\n",
    "def result(df): \n",
    "    total = df['total'].sum()\n",
    "    volume = df['Volume'].sum()\n",
    "    return total / volume\n",
    "result = df.groupby(['year' , 'month']).apply(result).reset_index(name ='average_closing_value')\n",
    "\n",
    "print(result)\n",
    "\n"
   ]
  },
  {
   "cell_type": "code",
   "execution_count": null,
   "id": "e816f649-d74e-42eb-bef8-574331f8d57a",
   "metadata": {},
   "outputs": [],
   "source": []
  }
 ],
 "metadata": {
  "kernelspec": {
   "display_name": "Python 3 (ipykernel)",
   "language": "python",
   "name": "python3"
  },
  "language_info": {
   "codemirror_mode": {
    "name": "ipython",
    "version": 3
   },
   "file_extension": ".py",
   "mimetype": "text/x-python",
   "name": "python",
   "nbconvert_exporter": "python",
   "pygments_lexer": "ipython3",
   "version": "3.8.2"
  }
 },
 "nbformat": 4,
 "nbformat_minor": 5
}
